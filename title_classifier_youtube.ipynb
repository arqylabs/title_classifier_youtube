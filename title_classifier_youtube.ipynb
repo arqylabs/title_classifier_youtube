{
  "nbformat": 4,
  "nbformat_minor": 0,
  "metadata": {
    "kernelspec": {
      "display_name": "Python 3",
      "language": "python",
      "name": "python3"
    },
    "language_info": {
      "codemirror_mode": {
        "name": "ipython",
        "version": 3
      },
      "file_extension": ".py",
      "mimetype": "text/x-python",
      "name": "python",
      "nbconvert_exporter": "python",
      "pygments_lexer": "ipython3",
      "version": "3.7.6"
    },
    "colab": {
      "name": "title_classifier_youtube.ipynb",
      "provenance": [],
      "include_colab_link": true
    }
  },
  "cells": [
    {
      "cell_type": "markdown",
      "metadata": {
        "id": "view-in-github",
        "colab_type": "text"
      },
      "source": [
        "<a href=\"https://colab.research.google.com/github/arqylabs/title_classifier_youtube/blob/master/title_classifier_youtube.ipynb\" target=\"_parent\"><img src=\"https://colab.research.google.com/assets/colab-badge.svg\" alt=\"Open In Colab\"/></a>"
      ]
    },
    {
      "cell_type": "code",
      "metadata": {
        "id": "Wflg3zjKM3fM",
        "colab_type": "code",
        "colab": {}
      },
      "source": [
        "## import statements ##\n",
        "import numpy as np\n",
        "import pandas as pd\n",
        "from pandas.io.json import json_normalize\n",
        "import re\n",
        "\n",
        "from sklearn.preprocessing import LabelEncoder\n",
        "from sklearn.model_selection import train_test_split, cross_val_score\n",
        "from sklearn.feature_extraction.text import CountVectorizer\n",
        "from sklearn.feature_extraction.text import TfidfTransformer\n",
        "from sklearn.linear_model import LogisticRegression\n",
        "from sklearn.pipeline import Pipeline\n",
        "from sklearn.metrics import confusion_matrix, classification_report, accuracy_score, roc_curve, auc, f1_score, roc_auc_score\n",
        "\n",
        "import warnings; warnings.simplefilter('ignore')"
      ],
      "execution_count": 0,
      "outputs": []
    },
    {
      "cell_type": "markdown",
      "metadata": {
        "id": "HCtbONr1M3fY",
        "colab_type": "text"
      },
      "source": [
        "**Import Data from CSV file**\n",
        "\n",
        "Using pandas to import the dataset and transform into a Dataframe."
      ]
    },
    {
      "cell_type": "code",
      "metadata": {
        "id": "myuP0xliM3fa",
        "colab_type": "code",
        "colab": {},
        "outputId": "e3984dac-7efd-4237-dc46-49382c01d769"
      },
      "source": [
        "data_files = 'USvideos.csv'\n",
        "\n",
        "data = pd.read_csv(data_files)\n",
        "data_videos = data[['video_id', 'title', 'category_id']]\n",
        "data_videos['category_id'] = pd.to_numeric(data_videos['category_id'])\n",
        "data_videos.head()"
      ],
      "execution_count": 0,
      "outputs": [
        {
          "output_type": "execute_result",
          "data": {
            "text/html": [
              "<div>\n",
              "<style scoped>\n",
              "    .dataframe tbody tr th:only-of-type {\n",
              "        vertical-align: middle;\n",
              "    }\n",
              "\n",
              "    .dataframe tbody tr th {\n",
              "        vertical-align: top;\n",
              "    }\n",
              "\n",
              "    .dataframe thead th {\n",
              "        text-align: right;\n",
              "    }\n",
              "</style>\n",
              "<table border=\"1\" class=\"dataframe\">\n",
              "  <thead>\n",
              "    <tr style=\"text-align: right;\">\n",
              "      <th></th>\n",
              "      <th>video_id</th>\n",
              "      <th>title</th>\n",
              "      <th>category_id</th>\n",
              "    </tr>\n",
              "  </thead>\n",
              "  <tbody>\n",
              "    <tr>\n",
              "      <th>0</th>\n",
              "      <td>2kyS6SvSYSE</td>\n",
              "      <td>WE WANT TO TALK ABOUT OUR MARRIAGE</td>\n",
              "      <td>22</td>\n",
              "    </tr>\n",
              "    <tr>\n",
              "      <th>1</th>\n",
              "      <td>1ZAPwfrtAFY</td>\n",
              "      <td>The Trump Presidency: Last Week Tonight with J...</td>\n",
              "      <td>24</td>\n",
              "    </tr>\n",
              "    <tr>\n",
              "      <th>2</th>\n",
              "      <td>5qpjK5DgCt4</td>\n",
              "      <td>Racist Superman | Rudy Mancuso, King Bach &amp; Le...</td>\n",
              "      <td>23</td>\n",
              "    </tr>\n",
              "    <tr>\n",
              "      <th>3</th>\n",
              "      <td>puqaWrEC7tY</td>\n",
              "      <td>Nickelback Lyrics: Real or Fake?</td>\n",
              "      <td>24</td>\n",
              "    </tr>\n",
              "    <tr>\n",
              "      <th>4</th>\n",
              "      <td>d380meD0W0M</td>\n",
              "      <td>I Dare You: GOING BALD!?</td>\n",
              "      <td>24</td>\n",
              "    </tr>\n",
              "  </tbody>\n",
              "</table>\n",
              "</div>"
            ],
            "text/plain": [
              "      video_id                                              title  category_id\n",
              "0  2kyS6SvSYSE                 WE WANT TO TALK ABOUT OUR MARRIAGE           22\n",
              "1  1ZAPwfrtAFY  The Trump Presidency: Last Week Tonight with J...           24\n",
              "2  5qpjK5DgCt4  Racist Superman | Rudy Mancuso, King Bach & Le...           23\n",
              "3  puqaWrEC7tY                   Nickelback Lyrics: Real or Fake?           24\n",
              "4  d380meD0W0M                           I Dare You: GOING BALD!?           24"
            ]
          },
          "metadata": {
            "tags": []
          },
          "execution_count": 103
        }
      ]
    },
    {
      "cell_type": "code",
      "metadata": {
        "scrolled": true,
        "id": "XcPv-rSUM3fn",
        "colab_type": "code",
        "colab": {},
        "outputId": "1bd3047e-2ca5-46a1-a3f5-0d6bcf1d2c47"
      },
      "source": [
        "category_labels = 'datasets_4549_466349_US_category_id.json'\n",
        "\n",
        "df = pd.read_json(category_labels)\n",
        "df['items']"
      ],
      "execution_count": 0,
      "outputs": [
        {
          "output_type": "execute_result",
          "data": {
            "text/plain": [
              "0     {'kind': 'youtube#videoCategory', 'etag': '\"m2...\n",
              "1     {'kind': 'youtube#videoCategory', 'etag': '\"m2...\n",
              "2     {'kind': 'youtube#videoCategory', 'etag': '\"m2...\n",
              "3     {'kind': 'youtube#videoCategory', 'etag': '\"m2...\n",
              "4     {'kind': 'youtube#videoCategory', 'etag': '\"m2...\n",
              "5     {'kind': 'youtube#videoCategory', 'etag': '\"m2...\n",
              "6     {'kind': 'youtube#videoCategory', 'etag': '\"m2...\n",
              "7     {'kind': 'youtube#videoCategory', 'etag': '\"m2...\n",
              "8     {'kind': 'youtube#videoCategory', 'etag': '\"m2...\n",
              "9     {'kind': 'youtube#videoCategory', 'etag': '\"m2...\n",
              "10    {'kind': 'youtube#videoCategory', 'etag': '\"m2...\n",
              "11    {'kind': 'youtube#videoCategory', 'etag': '\"m2...\n",
              "12    {'kind': 'youtube#videoCategory', 'etag': '\"m2...\n",
              "13    {'kind': 'youtube#videoCategory', 'etag': '\"m2...\n",
              "14    {'kind': 'youtube#videoCategory', 'etag': '\"m2...\n",
              "15    {'kind': 'youtube#videoCategory', 'etag': '\"m2...\n",
              "16    {'kind': 'youtube#videoCategory', 'etag': '\"m2...\n",
              "17    {'kind': 'youtube#videoCategory', 'etag': '\"m2...\n",
              "18    {'kind': 'youtube#videoCategory', 'etag': '\"m2...\n",
              "19    {'kind': 'youtube#videoCategory', 'etag': '\"m2...\n",
              "20    {'kind': 'youtube#videoCategory', 'etag': '\"m2...\n",
              "21    {'kind': 'youtube#videoCategory', 'etag': '\"m2...\n",
              "22    {'kind': 'youtube#videoCategory', 'etag': '\"m2...\n",
              "23    {'kind': 'youtube#videoCategory', 'etag': '\"m2...\n",
              "24    {'kind': 'youtube#videoCategory', 'etag': '\"m2...\n",
              "25    {'kind': 'youtube#videoCategory', 'etag': '\"m2...\n",
              "26    {'kind': 'youtube#videoCategory', 'etag': '\"m2...\n",
              "27    {'kind': 'youtube#videoCategory', 'etag': '\"m2...\n",
              "28    {'kind': 'youtube#videoCategory', 'etag': '\"m2...\n",
              "29    {'kind': 'youtube#videoCategory', 'etag': '\"m2...\n",
              "30    {'kind': 'youtube#videoCategory', 'etag': '\"m2...\n",
              "31    {'kind': 'youtube#videoCategory', 'etag': '\"m2...\n",
              "Name: items, dtype: object"
            ]
          },
          "metadata": {
            "tags": []
          },
          "execution_count": 104
        }
      ]
    },
    {
      "cell_type": "code",
      "metadata": {
        "scrolled": true,
        "id": "3yXCimxbM3fw",
        "colab_type": "code",
        "colab": {},
        "outputId": "d36b4a8b-170f-4113-fc61-d3ef8f567dff"
      },
      "source": [
        "categories = json_normalize(data=df['items'])[['id','snippet.title']]\n",
        "categories.columns = ['category_id','category_title']\n",
        "categories['category_id'] = pd.to_numeric(categories['category_id'])\n",
        "categories.sort_values(by=['category_id'], inplace=True)\n",
        "categories"
      ],
      "execution_count": 0,
      "outputs": [
        {
          "output_type": "execute_result",
          "data": {
            "text/html": [
              "<div>\n",
              "<style scoped>\n",
              "    .dataframe tbody tr th:only-of-type {\n",
              "        vertical-align: middle;\n",
              "    }\n",
              "\n",
              "    .dataframe tbody tr th {\n",
              "        vertical-align: top;\n",
              "    }\n",
              "\n",
              "    .dataframe thead th {\n",
              "        text-align: right;\n",
              "    }\n",
              "</style>\n",
              "<table border=\"1\" class=\"dataframe\">\n",
              "  <thead>\n",
              "    <tr style=\"text-align: right;\">\n",
              "      <th></th>\n",
              "      <th>category_id</th>\n",
              "      <th>category_title</th>\n",
              "    </tr>\n",
              "  </thead>\n",
              "  <tbody>\n",
              "    <tr>\n",
              "      <th>0</th>\n",
              "      <td>1</td>\n",
              "      <td>Film &amp; Animation</td>\n",
              "    </tr>\n",
              "    <tr>\n",
              "      <th>1</th>\n",
              "      <td>2</td>\n",
              "      <td>Autos &amp; Vehicles</td>\n",
              "    </tr>\n",
              "    <tr>\n",
              "      <th>2</th>\n",
              "      <td>10</td>\n",
              "      <td>Music</td>\n",
              "    </tr>\n",
              "    <tr>\n",
              "      <th>3</th>\n",
              "      <td>15</td>\n",
              "      <td>Pets &amp; Animals</td>\n",
              "    </tr>\n",
              "    <tr>\n",
              "      <th>4</th>\n",
              "      <td>17</td>\n",
              "      <td>Sports</td>\n",
              "    </tr>\n",
              "    <tr>\n",
              "      <th>5</th>\n",
              "      <td>18</td>\n",
              "      <td>Short Movies</td>\n",
              "    </tr>\n",
              "    <tr>\n",
              "      <th>6</th>\n",
              "      <td>19</td>\n",
              "      <td>Travel &amp; Events</td>\n",
              "    </tr>\n",
              "    <tr>\n",
              "      <th>7</th>\n",
              "      <td>20</td>\n",
              "      <td>Gaming</td>\n",
              "    </tr>\n",
              "    <tr>\n",
              "      <th>8</th>\n",
              "      <td>21</td>\n",
              "      <td>Videoblogging</td>\n",
              "    </tr>\n",
              "    <tr>\n",
              "      <th>9</th>\n",
              "      <td>22</td>\n",
              "      <td>People &amp; Blogs</td>\n",
              "    </tr>\n",
              "    <tr>\n",
              "      <th>10</th>\n",
              "      <td>23</td>\n",
              "      <td>Comedy</td>\n",
              "    </tr>\n",
              "    <tr>\n",
              "      <th>11</th>\n",
              "      <td>24</td>\n",
              "      <td>Entertainment</td>\n",
              "    </tr>\n",
              "    <tr>\n",
              "      <th>12</th>\n",
              "      <td>25</td>\n",
              "      <td>News &amp; Politics</td>\n",
              "    </tr>\n",
              "    <tr>\n",
              "      <th>13</th>\n",
              "      <td>26</td>\n",
              "      <td>Howto &amp; Style</td>\n",
              "    </tr>\n",
              "    <tr>\n",
              "      <th>14</th>\n",
              "      <td>27</td>\n",
              "      <td>Education</td>\n",
              "    </tr>\n",
              "    <tr>\n",
              "      <th>15</th>\n",
              "      <td>28</td>\n",
              "      <td>Science &amp; Technology</td>\n",
              "    </tr>\n",
              "    <tr>\n",
              "      <th>16</th>\n",
              "      <td>29</td>\n",
              "      <td>Nonprofits &amp; Activism</td>\n",
              "    </tr>\n",
              "    <tr>\n",
              "      <th>17</th>\n",
              "      <td>30</td>\n",
              "      <td>Movies</td>\n",
              "    </tr>\n",
              "    <tr>\n",
              "      <th>18</th>\n",
              "      <td>31</td>\n",
              "      <td>Anime/Animation</td>\n",
              "    </tr>\n",
              "    <tr>\n",
              "      <th>19</th>\n",
              "      <td>32</td>\n",
              "      <td>Action/Adventure</td>\n",
              "    </tr>\n",
              "    <tr>\n",
              "      <th>20</th>\n",
              "      <td>33</td>\n",
              "      <td>Classics</td>\n",
              "    </tr>\n",
              "    <tr>\n",
              "      <th>21</th>\n",
              "      <td>34</td>\n",
              "      <td>Comedy</td>\n",
              "    </tr>\n",
              "    <tr>\n",
              "      <th>22</th>\n",
              "      <td>35</td>\n",
              "      <td>Documentary</td>\n",
              "    </tr>\n",
              "    <tr>\n",
              "      <th>23</th>\n",
              "      <td>36</td>\n",
              "      <td>Drama</td>\n",
              "    </tr>\n",
              "    <tr>\n",
              "      <th>24</th>\n",
              "      <td>37</td>\n",
              "      <td>Family</td>\n",
              "    </tr>\n",
              "    <tr>\n",
              "      <th>25</th>\n",
              "      <td>38</td>\n",
              "      <td>Foreign</td>\n",
              "    </tr>\n",
              "    <tr>\n",
              "      <th>26</th>\n",
              "      <td>39</td>\n",
              "      <td>Horror</td>\n",
              "    </tr>\n",
              "    <tr>\n",
              "      <th>27</th>\n",
              "      <td>40</td>\n",
              "      <td>Sci-Fi/Fantasy</td>\n",
              "    </tr>\n",
              "    <tr>\n",
              "      <th>28</th>\n",
              "      <td>41</td>\n",
              "      <td>Thriller</td>\n",
              "    </tr>\n",
              "    <tr>\n",
              "      <th>29</th>\n",
              "      <td>42</td>\n",
              "      <td>Shorts</td>\n",
              "    </tr>\n",
              "    <tr>\n",
              "      <th>30</th>\n",
              "      <td>43</td>\n",
              "      <td>Shows</td>\n",
              "    </tr>\n",
              "    <tr>\n",
              "      <th>31</th>\n",
              "      <td>44</td>\n",
              "      <td>Trailers</td>\n",
              "    </tr>\n",
              "  </tbody>\n",
              "</table>\n",
              "</div>"
            ],
            "text/plain": [
              "    category_id         category_title\n",
              "0             1       Film & Animation\n",
              "1             2       Autos & Vehicles\n",
              "2            10                  Music\n",
              "3            15         Pets & Animals\n",
              "4            17                 Sports\n",
              "5            18           Short Movies\n",
              "6            19        Travel & Events\n",
              "7            20                 Gaming\n",
              "8            21          Videoblogging\n",
              "9            22         People & Blogs\n",
              "10           23                 Comedy\n",
              "11           24          Entertainment\n",
              "12           25        News & Politics\n",
              "13           26          Howto & Style\n",
              "14           27              Education\n",
              "15           28   Science & Technology\n",
              "16           29  Nonprofits & Activism\n",
              "17           30                 Movies\n",
              "18           31        Anime/Animation\n",
              "19           32       Action/Adventure\n",
              "20           33               Classics\n",
              "21           34                 Comedy\n",
              "22           35            Documentary\n",
              "23           36                  Drama\n",
              "24           37                 Family\n",
              "25           38                Foreign\n",
              "26           39                 Horror\n",
              "27           40         Sci-Fi/Fantasy\n",
              "28           41               Thriller\n",
              "29           42                 Shorts\n",
              "30           43                  Shows\n",
              "31           44               Trailers"
            ]
          },
          "metadata": {
            "tags": []
          },
          "execution_count": 105
        }
      ]
    },
    {
      "cell_type": "code",
      "metadata": {
        "id": "6sF0rhFZM3f5",
        "colab_type": "code",
        "colab": {},
        "outputId": "a9ac29d0-0376-404d-ed28-64f52553db5c"
      },
      "source": [
        "data_videos = pd.merge(data_videos, categories, on='category_id')\n",
        "data_videos.drop(list(data_videos[data_videos['title'] == 'Deleted video'].index),inplace=True)\n",
        "data_videos"
      ],
      "execution_count": 0,
      "outputs": [
        {
          "output_type": "execute_result",
          "data": {
            "text/html": [
              "<div>\n",
              "<style scoped>\n",
              "    .dataframe tbody tr th:only-of-type {\n",
              "        vertical-align: middle;\n",
              "    }\n",
              "\n",
              "    .dataframe tbody tr th {\n",
              "        vertical-align: top;\n",
              "    }\n",
              "\n",
              "    .dataframe thead th {\n",
              "        text-align: right;\n",
              "    }\n",
              "</style>\n",
              "<table border=\"1\" class=\"dataframe\">\n",
              "  <thead>\n",
              "    <tr style=\"text-align: right;\">\n",
              "      <th></th>\n",
              "      <th>video_id</th>\n",
              "      <th>title</th>\n",
              "      <th>category_id</th>\n",
              "      <th>category_title</th>\n",
              "    </tr>\n",
              "  </thead>\n",
              "  <tbody>\n",
              "    <tr>\n",
              "      <th>0</th>\n",
              "      <td>2kyS6SvSYSE</td>\n",
              "      <td>WE WANT TO TALK ABOUT OUR MARRIAGE</td>\n",
              "      <td>22</td>\n",
              "      <td>People &amp; Blogs</td>\n",
              "    </tr>\n",
              "    <tr>\n",
              "      <th>1</th>\n",
              "      <td>0mlNzVSJrT0</td>\n",
              "      <td>Me-O Cats Commercial</td>\n",
              "      <td>22</td>\n",
              "      <td>People &amp; Blogs</td>\n",
              "    </tr>\n",
              "    <tr>\n",
              "      <th>2</th>\n",
              "      <td>STI2fI7sKMo</td>\n",
              "      <td>AFFAIRS, EX BOYFRIENDS, $18MILLION NET WORTH -...</td>\n",
              "      <td>22</td>\n",
              "      <td>People &amp; Blogs</td>\n",
              "    </tr>\n",
              "    <tr>\n",
              "      <th>3</th>\n",
              "      <td>KODzih-pYlU</td>\n",
              "      <td>BLIND(folded) CAKE DECORATING CONTEST (with Mo...</td>\n",
              "      <td>22</td>\n",
              "      <td>People &amp; Blogs</td>\n",
              "    </tr>\n",
              "    <tr>\n",
              "      <th>4</th>\n",
              "      <td>8mhTWqWlQzU</td>\n",
              "      <td>Wearing Online Dollar Store Makeup For A Week</td>\n",
              "      <td>22</td>\n",
              "      <td>People &amp; Blogs</td>\n",
              "    </tr>\n",
              "    <tr>\n",
              "      <th>...</th>\n",
              "      <td>...</td>\n",
              "      <td>...</td>\n",
              "      <td>...</td>\n",
              "      <td>...</td>\n",
              "    </tr>\n",
              "    <tr>\n",
              "      <th>40944</th>\n",
              "      <td>V6ElE2xs48c</td>\n",
              "      <td>Game of Zones - S5:E5: The Isle of Van Gundy</td>\n",
              "      <td>43</td>\n",
              "      <td>Shows</td>\n",
              "    </tr>\n",
              "    <tr>\n",
              "      <th>40945</th>\n",
              "      <td>V6ElE2xs48c</td>\n",
              "      <td>Game of Zones - S5:E5: The Isle of Van Gundy</td>\n",
              "      <td>43</td>\n",
              "      <td>Shows</td>\n",
              "    </tr>\n",
              "    <tr>\n",
              "      <th>40946</th>\n",
              "      <td>V6ElE2xs48c</td>\n",
              "      <td>Game of Zones - S5:E5: The Isle of Van Gundy</td>\n",
              "      <td>43</td>\n",
              "      <td>Shows</td>\n",
              "    </tr>\n",
              "    <tr>\n",
              "      <th>40947</th>\n",
              "      <td>V6ElE2xs48c</td>\n",
              "      <td>Game of Zones - S5:E5: The Isle of Van Gundy</td>\n",
              "      <td>43</td>\n",
              "      <td>Shows</td>\n",
              "    </tr>\n",
              "    <tr>\n",
              "      <th>40948</th>\n",
              "      <td>V6ElE2xs48c</td>\n",
              "      <td>Game of Zones - S5:E5: The Isle of Van Gundy</td>\n",
              "      <td>43</td>\n",
              "      <td>Shows</td>\n",
              "    </tr>\n",
              "  </tbody>\n",
              "</table>\n",
              "<p>40946 rows × 4 columns</p>\n",
              "</div>"
            ],
            "text/plain": [
              "          video_id                                              title  \\\n",
              "0      2kyS6SvSYSE                 WE WANT TO TALK ABOUT OUR MARRIAGE   \n",
              "1      0mlNzVSJrT0                               Me-O Cats Commercial   \n",
              "2      STI2fI7sKMo  AFFAIRS, EX BOYFRIENDS, $18MILLION NET WORTH -...   \n",
              "3      KODzih-pYlU  BLIND(folded) CAKE DECORATING CONTEST (with Mo...   \n",
              "4      8mhTWqWlQzU      Wearing Online Dollar Store Makeup For A Week   \n",
              "...            ...                                                ...   \n",
              "40944  V6ElE2xs48c       Game of Zones - S5:E5: The Isle of Van Gundy   \n",
              "40945  V6ElE2xs48c       Game of Zones - S5:E5: The Isle of Van Gundy   \n",
              "40946  V6ElE2xs48c       Game of Zones - S5:E5: The Isle of Van Gundy   \n",
              "40947  V6ElE2xs48c       Game of Zones - S5:E5: The Isle of Van Gundy   \n",
              "40948  V6ElE2xs48c       Game of Zones - S5:E5: The Isle of Van Gundy   \n",
              "\n",
              "       category_id  category_title  \n",
              "0               22  People & Blogs  \n",
              "1               22  People & Blogs  \n",
              "2               22  People & Blogs  \n",
              "3               22  People & Blogs  \n",
              "4               22  People & Blogs  \n",
              "...            ...             ...  \n",
              "40944           43           Shows  \n",
              "40945           43           Shows  \n",
              "40946           43           Shows  \n",
              "40947           43           Shows  \n",
              "40948           43           Shows  \n",
              "\n",
              "[40946 rows x 4 columns]"
            ]
          },
          "metadata": {
            "tags": []
          },
          "execution_count": 106
        }
      ]
    },
    {
      "cell_type": "code",
      "metadata": {
        "id": "uHMoeeazM3gB",
        "colab_type": "code",
        "colab": {}
      },
      "source": [
        "df_unique = data_videos.sort_values('title', ascending=True).drop_duplicates(subset=['title'])"
      ],
      "execution_count": 0,
      "outputs": []
    },
    {
      "cell_type": "code",
      "metadata": {
        "scrolled": true,
        "id": "S4oHrK6mM3gI",
        "colab_type": "code",
        "colab": {},
        "outputId": "fbe4a0f4-b88e-4fdc-d4cf-5ad51a298af0"
      },
      "source": [
        "df_unique = df_unique.drop_duplicates()\n",
        "list_video_id_duplicate = (df_unique['video_id'].value_counts() > 1)[(df_unique['video_id'].value_counts() > 1)==True].index\n",
        "df_unique[df_unique['video_id'].isin(list_video_id_duplicate)]\n",
        "df_unique = df_unique.sort_index().drop_duplicates(subset=['video_id'])\n",
        "df_unique"
      ],
      "execution_count": 0,
      "outputs": [
        {
          "output_type": "execute_result",
          "data": {
            "text/html": [
              "<div>\n",
              "<style scoped>\n",
              "    .dataframe tbody tr th:only-of-type {\n",
              "        vertical-align: middle;\n",
              "    }\n",
              "\n",
              "    .dataframe tbody tr th {\n",
              "        vertical-align: top;\n",
              "    }\n",
              "\n",
              "    .dataframe thead th {\n",
              "        text-align: right;\n",
              "    }\n",
              "</style>\n",
              "<table border=\"1\" class=\"dataframe\">\n",
              "  <thead>\n",
              "    <tr style=\"text-align: right;\">\n",
              "      <th></th>\n",
              "      <th>video_id</th>\n",
              "      <th>title</th>\n",
              "      <th>category_id</th>\n",
              "      <th>category_title</th>\n",
              "    </tr>\n",
              "  </thead>\n",
              "  <tbody>\n",
              "    <tr>\n",
              "      <th>0</th>\n",
              "      <td>2kyS6SvSYSE</td>\n",
              "      <td>WE WANT TO TALK ABOUT OUR MARRIAGE</td>\n",
              "      <td>22</td>\n",
              "      <td>People &amp; Blogs</td>\n",
              "    </tr>\n",
              "    <tr>\n",
              "      <th>1</th>\n",
              "      <td>0mlNzVSJrT0</td>\n",
              "      <td>Me-O Cats Commercial</td>\n",
              "      <td>22</td>\n",
              "      <td>People &amp; Blogs</td>\n",
              "    </tr>\n",
              "    <tr>\n",
              "      <th>2</th>\n",
              "      <td>STI2fI7sKMo</td>\n",
              "      <td>AFFAIRS, EX BOYFRIENDS, $18MILLION NET WORTH -...</td>\n",
              "      <td>22</td>\n",
              "      <td>People &amp; Blogs</td>\n",
              "    </tr>\n",
              "    <tr>\n",
              "      <th>4</th>\n",
              "      <td>8mhTWqWlQzU</td>\n",
              "      <td>Wearing Online Dollar Store Makeup For A Week</td>\n",
              "      <td>22</td>\n",
              "      <td>People &amp; Blogs</td>\n",
              "    </tr>\n",
              "    <tr>\n",
              "      <th>6</th>\n",
              "      <td>fCTKDn3Q8xQ</td>\n",
              "      <td>Idiot's Guide to Japanese Squat Toilets</td>\n",
              "      <td>22</td>\n",
              "      <td>People &amp; Blogs</td>\n",
              "    </tr>\n",
              "    <tr>\n",
              "      <th>...</th>\n",
              "      <td>...</td>\n",
              "      <td>...</td>\n",
              "      <td>...</td>\n",
              "      <td>...</td>\n",
              "    </tr>\n",
              "    <tr>\n",
              "      <th>40889</th>\n",
              "      <td>pwGbwYAfSmg</td>\n",
              "      <td>5 books worth reading this summer</td>\n",
              "      <td>29</td>\n",
              "      <td>Nonprofits &amp; Activism</td>\n",
              "    </tr>\n",
              "    <tr>\n",
              "      <th>40902</th>\n",
              "      <td>lM0yu7c6lQk</td>\n",
              "      <td>You're not crazy. Apple is slowing down older ...</td>\n",
              "      <td>43</td>\n",
              "      <td>Shows</td>\n",
              "    </tr>\n",
              "    <tr>\n",
              "      <th>40907</th>\n",
              "      <td>Q1CFfU2gXHw</td>\n",
              "      <td>Apple HomePod: Everything to know before you b...</td>\n",
              "      <td>43</td>\n",
              "      <td>Shows</td>\n",
              "    </tr>\n",
              "    <tr>\n",
              "      <th>40920</th>\n",
              "      <td>7_FJUSBFbJM</td>\n",
              "      <td>Game of Zones - Game of Zones - S5:E1: 'A Gold...</td>\n",
              "      <td>43</td>\n",
              "      <td>Shows</td>\n",
              "    </tr>\n",
              "    <tr>\n",
              "      <th>40943</th>\n",
              "      <td>V6ElE2xs48c</td>\n",
              "      <td>Game of Zones - S5:E5: The Isle of Van Gundy</td>\n",
              "      <td>43</td>\n",
              "      <td>Shows</td>\n",
              "    </tr>\n",
              "  </tbody>\n",
              "</table>\n",
              "<p>6343 rows × 4 columns</p>\n",
              "</div>"
            ],
            "text/plain": [
              "          video_id                                              title  \\\n",
              "0      2kyS6SvSYSE                 WE WANT TO TALK ABOUT OUR MARRIAGE   \n",
              "1      0mlNzVSJrT0                               Me-O Cats Commercial   \n",
              "2      STI2fI7sKMo  AFFAIRS, EX BOYFRIENDS, $18MILLION NET WORTH -...   \n",
              "4      8mhTWqWlQzU      Wearing Online Dollar Store Makeup For A Week   \n",
              "6      fCTKDn3Q8xQ            Idiot's Guide to Japanese Squat Toilets   \n",
              "...            ...                                                ...   \n",
              "40889  pwGbwYAfSmg                  5 books worth reading this summer   \n",
              "40902  lM0yu7c6lQk  You're not crazy. Apple is slowing down older ...   \n",
              "40907  Q1CFfU2gXHw  Apple HomePod: Everything to know before you b...   \n",
              "40920  7_FJUSBFbJM  Game of Zones - Game of Zones - S5:E1: 'A Gold...   \n",
              "40943  V6ElE2xs48c       Game of Zones - S5:E5: The Isle of Van Gundy   \n",
              "\n",
              "       category_id         category_title  \n",
              "0               22         People & Blogs  \n",
              "1               22         People & Blogs  \n",
              "2               22         People & Blogs  \n",
              "4               22         People & Blogs  \n",
              "6               22         People & Blogs  \n",
              "...            ...                    ...  \n",
              "40889           29  Nonprofits & Activism  \n",
              "40902           43                  Shows  \n",
              "40907           43                  Shows  \n",
              "40920           43                  Shows  \n",
              "40943           43                  Shows  \n",
              "\n",
              "[6343 rows x 4 columns]"
            ]
          },
          "metadata": {
            "tags": []
          },
          "execution_count": 156
        }
      ]
    },
    {
      "cell_type": "markdown",
      "metadata": {
        "id": "XPHoKnrnM3gX",
        "colab_type": "text"
      },
      "source": [
        "**Data Cleansing Step**\n",
        "\n",
        "1. Remove any symbols in the comments\n",
        "2. Convert to lowercase"
      ]
    },
    {
      "cell_type": "code",
      "metadata": {
        "id": "5QnIk81lM3gZ",
        "colab_type": "code",
        "colab": {}
      },
      "source": [
        "def process_content(content):\n",
        "    return \" \".join(re.findall(\"[A-Za-z]+\",content.lower()))"
      ],
      "execution_count": 0,
      "outputs": []
    },
    {
      "cell_type": "code",
      "metadata": {
        "id": "CeRha4qJM3gi",
        "colab_type": "code",
        "colab": {}
      },
      "source": [
        "df_unique['processed_title'] = df_unique['title'].apply(process_content)\n",
        "train_data = df_unique.copy()"
      ],
      "execution_count": 0,
      "outputs": []
    },
    {
      "cell_type": "code",
      "metadata": {
        "id": "fNn4i8vgM3gp",
        "colab_type": "code",
        "colab": {},
        "outputId": "5fe49881-769f-46de-94f7-934e910a072a"
      },
      "source": [
        "train_data.head()"
      ],
      "execution_count": 0,
      "outputs": [
        {
          "output_type": "execute_result",
          "data": {
            "text/html": [
              "<div>\n",
              "<style scoped>\n",
              "    .dataframe tbody tr th:only-of-type {\n",
              "        vertical-align: middle;\n",
              "    }\n",
              "\n",
              "    .dataframe tbody tr th {\n",
              "        vertical-align: top;\n",
              "    }\n",
              "\n",
              "    .dataframe thead th {\n",
              "        text-align: right;\n",
              "    }\n",
              "</style>\n",
              "<table border=\"1\" class=\"dataframe\">\n",
              "  <thead>\n",
              "    <tr style=\"text-align: right;\">\n",
              "      <th></th>\n",
              "      <th>video_id</th>\n",
              "      <th>title</th>\n",
              "      <th>category_id</th>\n",
              "      <th>category_title</th>\n",
              "      <th>processed_title</th>\n",
              "    </tr>\n",
              "  </thead>\n",
              "  <tbody>\n",
              "    <tr>\n",
              "      <th>0</th>\n",
              "      <td>2kyS6SvSYSE</td>\n",
              "      <td>WE WANT TO TALK ABOUT OUR MARRIAGE</td>\n",
              "      <td>22</td>\n",
              "      <td>People &amp; Blogs</td>\n",
              "      <td>we want to talk about our marriage</td>\n",
              "    </tr>\n",
              "    <tr>\n",
              "      <th>1</th>\n",
              "      <td>0mlNzVSJrT0</td>\n",
              "      <td>Me-O Cats Commercial</td>\n",
              "      <td>22</td>\n",
              "      <td>People &amp; Blogs</td>\n",
              "      <td>me o cats commercial</td>\n",
              "    </tr>\n",
              "    <tr>\n",
              "      <th>2</th>\n",
              "      <td>STI2fI7sKMo</td>\n",
              "      <td>AFFAIRS, EX BOYFRIENDS, $18MILLION NET WORTH -...</td>\n",
              "      <td>22</td>\n",
              "      <td>People &amp; Blogs</td>\n",
              "      <td>affairs ex boyfriends million net worth google...</td>\n",
              "    </tr>\n",
              "    <tr>\n",
              "      <th>4</th>\n",
              "      <td>8mhTWqWlQzU</td>\n",
              "      <td>Wearing Online Dollar Store Makeup For A Week</td>\n",
              "      <td>22</td>\n",
              "      <td>People &amp; Blogs</td>\n",
              "      <td>wearing online dollar store makeup for a week</td>\n",
              "    </tr>\n",
              "    <tr>\n",
              "      <th>6</th>\n",
              "      <td>fCTKDn3Q8xQ</td>\n",
              "      <td>Idiot's Guide to Japanese Squat Toilets</td>\n",
              "      <td>22</td>\n",
              "      <td>People &amp; Blogs</td>\n",
              "      <td>idiot s guide to japanese squat toilets</td>\n",
              "    </tr>\n",
              "  </tbody>\n",
              "</table>\n",
              "</div>"
            ],
            "text/plain": [
              "      video_id                                              title  \\\n",
              "0  2kyS6SvSYSE                 WE WANT TO TALK ABOUT OUR MARRIAGE   \n",
              "1  0mlNzVSJrT0                               Me-O Cats Commercial   \n",
              "2  STI2fI7sKMo  AFFAIRS, EX BOYFRIENDS, $18MILLION NET WORTH -...   \n",
              "4  8mhTWqWlQzU      Wearing Online Dollar Store Makeup For A Week   \n",
              "6  fCTKDn3Q8xQ            Idiot's Guide to Japanese Squat Toilets   \n",
              "\n",
              "   category_id  category_title  \\\n",
              "0           22  People & Blogs   \n",
              "1           22  People & Blogs   \n",
              "2           22  People & Blogs   \n",
              "4           22  People & Blogs   \n",
              "6           22  People & Blogs   \n",
              "\n",
              "                                     processed_title  \n",
              "0                 we want to talk about our marriage  \n",
              "1                               me o cats commercial  \n",
              "2  affairs ex boyfriends million net worth google...  \n",
              "4      wearing online dollar store makeup for a week  \n",
              "6            idiot s guide to japanese squat toilets  "
            ]
          },
          "metadata": {
            "tags": []
          },
          "execution_count": 167
        }
      ]
    },
    {
      "cell_type": "code",
      "metadata": {
        "id": "o0tuHPTaM3gx",
        "colab_type": "code",
        "colab": {}
      },
      "source": [
        "# encoder = LabelEncoder()\n",
        "# y = encoder.fit_transform(train_data['Category'])\n",
        "# train_data['n_category'] = y\n",
        "# print(y[:5])"
      ],
      "execution_count": 0,
      "outputs": []
    },
    {
      "cell_type": "markdown",
      "metadata": {
        "id": "4m1wu40gM3g5",
        "colab_type": "text"
      },
      "source": [
        "**Data Distribution**"
      ]
    },
    {
      "cell_type": "code",
      "metadata": {
        "id": "F13OO_RsM3g8",
        "colab_type": "code",
        "colab": {},
        "outputId": "2ec5509f-2ff0-48d0-b49c-3975283c9bf4"
      },
      "source": [
        "categories = train_data['category_title']\n",
        "titles = train_data['processed_title']\n",
        "N = len(titles)\n",
        "print('Number of video',N)"
      ],
      "execution_count": 0,
      "outputs": [
        {
          "output_type": "stream",
          "text": [
            "Number of video 6343\n"
          ],
          "name": "stdout"
        }
      ]
    },
    {
      "cell_type": "code",
      "metadata": {
        "id": "sey9_46oM3hK",
        "colab_type": "code",
        "colab": {},
        "outputId": "b2dcbd14-a716-4d35-d1ec-58f434fb5f39"
      },
      "source": [
        "labels = list(set(categories))\n",
        "n_classes = len(labels)\n",
        "print('possible categories',labels)"
      ],
      "execution_count": 0,
      "outputs": [
        {
          "output_type": "stream",
          "text": [
            "possible categories ['Autos & Vehicles', 'People & Blogs', 'Science & Technology', 'Sports', 'Education', 'Gaming', 'Howto & Style', 'Nonprofits & Activism', 'News & Politics', 'Entertainment', 'Music', 'Pets & Animals', 'Film & Animation', 'Travel & Events', 'Comedy', 'Shows']\n"
          ],
          "name": "stdout"
        }
      ]
    },
    {
      "cell_type": "code",
      "metadata": {
        "id": "B89EvCdaM3hU",
        "colab_type": "code",
        "colab": {},
        "outputId": "0f84ba15-2ab2-4384-a889-977fbbe383ca"
      },
      "source": [
        "for l in labels:\n",
        "    print(('number of \"%s\" video = %d' % (l,len(train_data.loc[train_data['category_title'] == l]))))"
      ],
      "execution_count": 0,
      "outputs": [
        {
          "output_type": "stream",
          "text": [
            "number of \"Autos & Vehicles\" video = 70\n",
            "number of \"People & Blogs\" video = 495\n",
            "number of \"Science & Technology\" video = 381\n",
            "number of \"Sports\" video = 448\n",
            "number of \"Education\" video = 249\n",
            "number of \"Gaming\" video = 103\n",
            "number of \"Howto & Style\" video = 594\n",
            "number of \"Nonprofits & Activism\" video = 14\n",
            "number of \"News & Politics\" video = 505\n",
            "number of \"Entertainment\" video = 1620\n",
            "number of \"Music\" video = 798\n",
            "number of \"Pets & Animals\" video = 139\n",
            "number of \"Film & Animation\" video = 319\n",
            "number of \"Travel & Events\" video = 59\n",
            "number of \"Comedy\" video = 545\n",
            "number of \"Shows\" video = 4\n"
          ],
          "name": "stdout"
        }
      ]
    },
    {
      "cell_type": "markdown",
      "metadata": {
        "id": "eAcnXHXpM3hb",
        "colab_type": "text"
      },
      "source": [
        "**Split the data**\n",
        "\n",
        "Split the data for data training of 70% and data testing of 30% with random pick of 57.\n",
        "- Data Training : `X_train & y_train`\n",
        "- Data Testing : `X_test & y_test`"
      ]
    },
    {
      "cell_type": "code",
      "metadata": {
        "id": "NDhgK_OXM3hd",
        "colab_type": "code",
        "colab": {}
      },
      "source": [
        "X_train, X_test, y_train, y_test = train_test_split(train_data['processed_title'],train_data['category_title'],test_size=0.3,random_state=57)"
      ],
      "execution_count": 0,
      "outputs": []
    },
    {
      "cell_type": "markdown",
      "metadata": {
        "id": "E65srwOyM3hn",
        "colab_type": "text"
      },
      "source": [
        "**Data Pipeline**\n",
        "\n",
        "1. Data Cleansing using `CountVectorize` with stop_word='english' to remove the stop word\n",
        "2. Data transforming using `TF-IDF`\n",
        "3. Model Training using `LogisticRegression`"
      ]
    },
    {
      "cell_type": "code",
      "metadata": {
        "id": "5Ps8xO1nM3hp",
        "colab_type": "code",
        "colab": {}
      },
      "source": [
        "model = Pipeline([('vect', CountVectorizer(stop_words='english')),\n",
        "                     ('tfidf', TfidfTransformer()),\n",
        "                     ('clf', LogisticRegression()),\n",
        "                     ])"
      ],
      "execution_count": 0,
      "outputs": []
    },
    {
      "cell_type": "markdown",
      "metadata": {
        "id": "ImKMXfzDM3hz",
        "colab_type": "text"
      },
      "source": [
        "**Fitting the model**"
      ]
    },
    {
      "cell_type": "code",
      "metadata": {
        "id": "MclCusBfM3h2",
        "colab_type": "code",
        "colab": {}
      },
      "source": [
        "text_clf = model.fit(X_train, y_train)"
      ],
      "execution_count": 0,
      "outputs": []
    },
    {
      "cell_type": "markdown",
      "metadata": {
        "id": "tsEF9LAxM3h8",
        "colab_type": "text"
      },
      "source": [
        "**Predict the data testing**"
      ]
    },
    {
      "cell_type": "code",
      "metadata": {
        "id": "gwZQRoBiM3h9",
        "colab_type": "code",
        "colab": {}
      },
      "source": [
        "predicted = model.predict(X_test)"
      ],
      "execution_count": 0,
      "outputs": []
    },
    {
      "cell_type": "markdown",
      "metadata": {
        "id": "p-8tq4qGM3iA",
        "colab_type": "text"
      },
      "source": [
        "**Confusion Matrix**"
      ]
    },
    {
      "cell_type": "code",
      "metadata": {
        "id": "1SNpKkaiM3iB",
        "colab_type": "code",
        "colab": {},
        "outputId": "4a579019-5128-4aaf-f7d4-d71bdb5f44e3"
      },
      "source": [
        "confusion_matrix(y_test,predicted)"
      ],
      "execution_count": 0,
      "outputs": [
        {
          "output_type": "execute_result",
          "data": {
            "text/plain": [
              "array([[  0,   0,   0,  16,   0,   0,   0,   0,   0,   0,   0,   0,   3,\n",
              "          0,   2,   0],\n",
              "       [  0,  31,   1,  99,   0,   0,   6,  12,   0,   0,   0,   0,   1,\n",
              "          0,   2,   0],\n",
              "       [  0,   1,   1,  53,   2,   0,   3,   2,   1,   0,   1,   0,   2,\n",
              "          0,   0,   0],\n",
              "       [  0,   2,   0, 447,   3,   0,   9,  18,   5,   0,   3,   1,   2,\n",
              "          0,   2,   0],\n",
              "       [  0,   2,   0,  50,  25,   0,   0,   1,   1,   0,   1,   0,   1,\n",
              "          0,   1,   0],\n",
              "       [  0,   0,   0,  32,   1,   3,   0,   0,   1,   0,   1,   0,   0,\n",
              "          0,   0,   0],\n",
              "       [  0,   0,   0,  97,   0,   0,  98,   4,   0,   0,   3,   0,   0,\n",
              "          0,   0,   0],\n",
              "       [  0,   1,   0,  85,   0,   0,   1, 146,   0,   0,   1,   0,   0,\n",
              "          0,   0,   0],\n",
              "       [  0,   0,   0,  89,   1,   0,   1,   2,  56,   0,   3,   0,   3,\n",
              "          0,   1,   0],\n",
              "       [  0,   0,   0,   4,   0,   0,   0,   0,   0,   0,   0,   0,   0,\n",
              "          0,   0,   0],\n",
              "       [  0,   6,   1,  98,   0,   0,   6,  11,   1,   0,  18,   0,   3,\n",
              "          0,   7,   0],\n",
              "       [  0,   1,   0,  30,   1,   0,   1,   2,   2,   0,   1,  12,   0,\n",
              "          0,   0,   0],\n",
              "       [  0,   2,   0,  72,   0,   0,   4,   4,   0,   0,   1,   0,  20,\n",
              "          0,   1,   0],\n",
              "       [  0,   0,   0,   1,   0,   0,   0,   0,   0,   0,   0,   0,   2,\n",
              "          0,   0,   0],\n",
              "       [  0,   0,   0,  47,   0,   0,   0,   2,   2,   0,   2,   0,   0,\n",
              "          0,  77,   0],\n",
              "       [  0,   0,   0,  15,   0,   0,   1,   1,   1,   0,   0,   0,   0,\n",
              "          0,   0,   0]], dtype=int64)"
            ]
          },
          "metadata": {
            "tags": []
          },
          "execution_count": 189
        }
      ]
    },
    {
      "cell_type": "markdown",
      "metadata": {
        "id": "W2s-Y5lsM3iE",
        "colab_type": "text"
      },
      "source": [
        "**Accuracy Score & Classification Report**"
      ]
    },
    {
      "cell_type": "code",
      "metadata": {
        "id": "sDha1izkM3iF",
        "colab_type": "code",
        "colab": {},
        "outputId": "2e32468d-227f-470b-b0c2-2cb3ac046fbe"
      },
      "source": [
        "print('accuracy_score',accuracy_score(y_test,predicted))\n",
        "print('Reporting...')"
      ],
      "execution_count": 0,
      "outputs": [
        {
          "output_type": "stream",
          "text": [
            "accuracy_score 0.4908039936941671\n",
            "Reporting...\n"
          ],
          "name": "stdout"
        }
      ]
    },
    {
      "cell_type": "code",
      "metadata": {
        "id": "35SzWTDKM3iI",
        "colab_type": "code",
        "colab": {},
        "outputId": "ec8649fb-28fb-42b3-d088-d7e50049d9bc"
      },
      "source": [
        "print(classification_report(y_test, predicted, target_names=labels))"
      ],
      "execution_count": 0,
      "outputs": [
        {
          "output_type": "stream",
          "text": [
            "                       precision    recall  f1-score   support\n",
            "\n",
            "     Autos & Vehicles       0.00      0.00      0.00        21\n",
            "       People & Blogs       0.67      0.20      0.31       152\n",
            " Science & Technology       0.33      0.02      0.03        66\n",
            "               Sports       0.36      0.91      0.52       492\n",
            "            Education       0.76      0.30      0.43        82\n",
            "               Gaming       1.00      0.08      0.15        38\n",
            "        Howto & Style       0.75      0.49      0.59       202\n",
            "Nonprofits & Activism       0.71      0.62      0.67       234\n",
            "      News & Politics       0.80      0.36      0.50       156\n",
            "        Entertainment       0.00      0.00      0.00         4\n",
            "                Music       0.51      0.12      0.19       151\n",
            "       Pets & Animals       0.92      0.24      0.38        50\n",
            "     Film & Animation       0.54      0.19      0.28       104\n",
            "      Travel & Events       0.00      0.00      0.00         3\n",
            "               Comedy       0.83      0.59      0.69       130\n",
            "                Shows       0.00      0.00      0.00        18\n",
            "\n",
            "             accuracy                           0.49      1903\n",
            "            macro avg       0.51      0.26      0.30      1903\n",
            "         weighted avg       0.60      0.49      0.45      1903\n",
            "\n"
          ],
          "name": "stdout"
        }
      ]
    },
    {
      "cell_type": "markdown",
      "metadata": {
        "id": "zRTYKDoCM3iM",
        "colab_type": "text"
      },
      "source": [
        "**Model Evaluation using Cross Validation**"
      ]
    },
    {
      "cell_type": "markdown",
      "metadata": {
        "id": "ny3QD65AM3iM",
        "colab_type": "text"
      },
      "source": [
        "On the data training"
      ]
    },
    {
      "cell_type": "code",
      "metadata": {
        "id": "8s8SM5riM3iN",
        "colab_type": "code",
        "colab": {},
        "outputId": "cd091103-a9d4-4b1e-9eac-0fef8e89c104"
      },
      "source": [
        "cross_val_score(model, X_train, y_train, cv=5)"
      ],
      "execution_count": 0,
      "outputs": [
        {
          "output_type": "execute_result",
          "data": {
            "text/plain": [
              "array([0.48198198, 0.46058559, 0.45945946, 0.48310811, 0.4740991 ])"
            ]
          },
          "metadata": {
            "tags": []
          },
          "execution_count": 193
        }
      ]
    },
    {
      "cell_type": "markdown",
      "metadata": {
        "id": "crFj8NiwM3iQ",
        "colab_type": "text"
      },
      "source": [
        "On the data testing"
      ]
    },
    {
      "cell_type": "code",
      "metadata": {
        "id": "g7tt6bXSM3iR",
        "colab_type": "code",
        "colab": {},
        "outputId": "226b58ac-511a-483d-bce0-8c36036c285b"
      },
      "source": [
        "cross_val_score(model, X_test, y_test, cv=5)"
      ],
      "execution_count": 0,
      "outputs": [
        {
          "output_type": "execute_result",
          "data": {
            "text/plain": [
              "array([0.39107612, 0.4015748 , 0.39370079, 0.39736842, 0.42105263])"
            ]
          },
          "metadata": {
            "tags": []
          },
          "execution_count": 194
        }
      ]
    },
    {
      "cell_type": "markdown",
      "metadata": {
        "id": "o6vLCXXuM3iV",
        "colab_type": "text"
      },
      "source": [
        "**`predict_title` function**"
      ]
    },
    {
      "cell_type": "code",
      "metadata": {
        "id": "4pteuc-hM3iW",
        "colab_type": "code",
        "colab": {}
      },
      "source": [
        "def predict_title(model, new_data):\n",
        "    test_data = pd.DataFrame(new_data, columns=['title'])\n",
        "    test_data['processed_title'] = test_data['title'].apply(process_content)\n",
        "    \n",
        "    X_test = test_data['processed_title']\n",
        "    predictions = model.predict(X_test)\n",
        "    \n",
        "    return predictions"
      ],
      "execution_count": 0,
      "outputs": []
    },
    {
      "cell_type": "markdown",
      "metadata": {
        "id": "9-M1vIxoM3ia",
        "colab_type": "text"
      },
      "source": [
        "**New Data Sample Test**"
      ]
    },
    {
      "cell_type": "code",
      "metadata": {
        "id": "mtr_J8fPM3ib",
        "colab_type": "code",
        "colab": {}
      },
      "source": [
        "t1 = ['Rupiah is the best in Asia today.']\n",
        "news_title = pd.DataFrame(t1, columns=['title'])"
      ],
      "execution_count": 0,
      "outputs": []
    },
    {
      "cell_type": "code",
      "metadata": {
        "id": "OjyS_QVdM3ie",
        "colab_type": "code",
        "colab": {},
        "outputId": "e5190171-d00f-47de-a2f1-2afaaf33628e"
      },
      "source": [
        "predict_title(model, t1)"
      ],
      "execution_count": 0,
      "outputs": [
        {
          "output_type": "execute_result",
          "data": {
            "text/plain": [
              "array(['News & Politics'], dtype=object)"
            ]
          },
          "metadata": {
            "tags": []
          },
          "execution_count": 198
        }
      ]
    },
    {
      "cell_type": "code",
      "metadata": {
        "id": "at8du3gQM3ij",
        "colab_type": "code",
        "colab": {}
      },
      "source": [
        ""
      ],
      "execution_count": 0,
      "outputs": []
    }
  ]
}